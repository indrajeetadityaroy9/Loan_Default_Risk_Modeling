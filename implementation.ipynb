{
 "cells": [
  {
   "cell_type": "code",
   "execution_count": null,
   "outputs": [],
   "source": [
    "import re\n",
    "import math\n",
    "import warnings\n",
    "warnings.filterwarnings('ignore')\n",
    "\n",
    "# Data handling\n",
    "import numpy as np\n",
    "import pandas as pd\n",
    "\n",
    "# Visualization\n",
    "import matplotlib.pyplot as plt\n",
    "import seaborn as sns\n",
    "import plotly\n",
    "import plotly.express as px\n",
    "import plotly.graph_objects as go\n",
    "import kaleido\n",
    "import ipywidgets as widgets\n",
    "from plotly.subplots import make_subplots\n",
    "from IPython.display import display, Image\n",
    "\n",
    "# Statistical analysis\n",
    "from scipy.stats import boxcox, skew\n",
    "from statsmodels.stats.outliers_influence import variance_inflation_factor\n",
    "\n",
    "# ML libraries and utilities\n",
    "from sklearn.model_selection import train_test_split, cross_val_score, KFold\n",
    "from sklearn.metrics import make_scorer, mean_squared_error, mean_absolute_error, r2_score\n",
    "from sklearn.impute import SimpleImputer\n",
    "from sklearn.preprocessing import StandardScaler\n",
    "from sklearn.linear_model import ElasticNet\n",
    "from sklearn.tree import DecisionTreeRegressor\n",
    "from sklearn.ensemble import RandomForestRegressor, GradientBoostingRegressor, AdaBoostRegressor\n",
    "from xgboost import XGBRegressor\n",
    "from lightgbm import LGBMRegressor\n",
    "from catboost import CatBoostRegressor\n",
    "\n",
    "# Hyperparameter tuning\n",
    "import xgboost as xgb\n",
    "import optuna\n",
    "import logging\n",
    "optuna.logging.set_verbosity(optuna.logging.WARNING)"
   ],
   "metadata": {
    "collapsed": false
   },
   "id": "981236dbf2f4133d"
  },
  {
   "cell_type": "code",
   "execution_count": null,
   "outputs": [],
   "source": [
    "def read_excel_data(file_path, sheet_names):\n",
    "    data_frames = []\n",
    "    \n",
    "    for sheet_name in sheet_names:\n",
    "      df = pd.read_excel(file_path, sheet_name=sheet_name, engine='openpyxl')\n",
    "      data_frames.append(df)\n",
    "    \n",
    "    return data_frames"
   ],
   "metadata": {
    "collapsed": false
   },
   "id": "944f870c812ba547"
  },
  {
   "cell_type": "code",
   "execution_count": null,
   "outputs": [],
   "source": [
    "# Read Excel sheets into DataFrames\n",
    "sheet_names = ['loan_information', 'Employment', 'Personal_information', 'Other_information']\n",
    "dfs = read_excel_data(\"Credit_Risk_Dataset.xlsx\", sheet_names)\n",
    "\n",
    "loan_information = dfs[0]\n",
    "employment = dfs[1]\n",
    "personal_information = dfs[2]\n",
    "other_information = dfs[3]\n",
    "\n",
    "# Standardize the 'User_id' column names across all DataFrames\n",
    "employment.rename(columns={'User id': 'User_id'}, inplace=True)\n",
    "personal_information.rename(columns={'User id': 'User_id'}, inplace=True)\n",
    "\n",
    "# Merge 'loan_information' and 'employment' DataFrames based on 'User_id'\n",
    "merged_df = pd.merge(loan_information, employment, on='User_id')\n",
    "\n",
    "# Merge the previously merged DataFrame with 'personal_information' based on 'User_id'\n",
    "merged_df = pd.merge(merged_df, personal_information, on='User_id')\n",
    "\n",
    "# Merge the previously merged DataFrame with 'other_information' based on 'User_id'\n",
    "merged_df = pd.merge(merged_df, other_information, on='User_id')\n",
    "df = merged_df\n",
    "df.to_csv(\"merged_data.csv\", index=False)"
   ],
   "metadata": {
    "collapsed": false
   },
   "id": "556a6a97bf1ff065"
  },
  {
   "cell_type": "markdown",
   "source": [
    "## Data Overview"
   ],
   "metadata": {
    "collapsed": false
   },
   "id": "f3d4ef4aeb2e280f"
  },
  {
   "cell_type": "code",
   "execution_count": null,
   "outputs": [],
   "source": [
    "df = pd.read_csv(\"merged_data.csv\")\n",
    "df.head()"
   ],
   "metadata": {
    "collapsed": false
   },
   "id": "67183724aa13a276"
  },
  {
   "cell_type": "code",
   "execution_count": null,
   "outputs": [],
   "source": [
    "df = df.drop(columns=['Pincode', 'Role', 'Industry', 'User_id'])\n",
    "\n",
    "df.rename(columns={\n",
    "    'Employmet type': 'Employment type',\n",
    "    'Total Payement ': 'Total Payment',\n",
    "    'Total Income(PA)': 'Total Income',\n",
    "    'Tenure(years)': 'Loan Tenure'\n",
    "}, inplace=True)\n",
    "\n",
    "df['Employment type'] = df['Employment type'].str.replace('Self - Employeed', 'Self Employed')\n",
    "\n",
    "df.head()"
   ],
   "metadata": {
    "collapsed": false
   },
   "id": "86d993c219ce0c70"
  },
  {
   "cell_type": "code",
   "execution_count": null,
   "outputs": [],
   "source": [
    "df.describe()"
   ],
   "metadata": {
    "collapsed": false
   },
   "id": "9a14556f1ff3d3f"
  },
  {
   "cell_type": "code",
   "execution_count": null,
   "outputs": [],
   "source": [
    "df.info()"
   ],
   "metadata": {
    "collapsed": false
   },
   "id": "72ba40885e13552d"
  },
  {
   "cell_type": "code",
   "execution_count": null,
   "outputs": [],
   "source": [
    "df.describe()"
   ],
   "metadata": {
    "collapsed": false
   },
   "id": "3cb3291e0cf47c31"
  },
  {
   "cell_type": "markdown",
   "source": [
    "## Missing Data Analysis"
   ],
   "metadata": {
    "collapsed": false
   },
   "id": "e2e84822e09577b0"
  },
  {
   "cell_type": "code",
   "execution_count": null,
   "outputs": [],
   "source": [
    "missing_data = df.isnull().sum()\n",
    "missing_data = missing_data[missing_data > 0]\n",
    "missing_data"
   ],
   "metadata": {
    "collapsed": false
   },
   "id": "294eebe33476c707"
  },
  {
   "cell_type": "code",
   "execution_count": null,
   "outputs": [],
   "source": [
    "missing_data_proportion = df.isnull().mean() * 100\n",
    "missing_data_proportion = missing_data_proportion[missing_data_proportion > 0]\n",
    "missing_data_proportion = missing_data_proportion.sort_values(ascending=False)\n",
    "missing_data_proportion_formatted = missing_data_proportion.apply(lambda x: f\"{x:.2f}%\")\n",
    "missing_data_proportion_formatted"
   ],
   "metadata": {
    "collapsed": false
   },
   "id": "cd219735a3764284"
  },
  {
   "cell_type": "code",
   "execution_count": null,
   "outputs": [],
   "source": [
    "num_imputer = SimpleImputer(strategy='median')  # For numerical columns\n",
    "cat_imputer = SimpleImputer(strategy='most_frequent')  # For categorical columns\n",
    "\n",
    "# Select numerical and categorical columns\n",
    "numerical_cols = ['Amount']\n",
    "categorical_cols = ['Employment type', 'Tier of Employment', 'Married', 'Social Profile', 'Is_verified']\n",
    "\n",
    "df[numerical_cols] = num_imputer.fit_transform(df[numerical_cols])\n",
    "df[categorical_cols] = cat_imputer.fit_transform(df[categorical_cols])"
   ],
   "metadata": {
    "collapsed": false
   },
   "id": "cd4975a5b2c65c22"
  },
  {
   "cell_type": "code",
   "execution_count": null,
   "outputs": [],
   "source": [
    "missing_data = df.isnull().sum()\n",
    "missing_data = missing_data[missing_data > 0]\n",
    "missing_data"
   ],
   "metadata": {
    "collapsed": false
   },
   "id": "2cb1dd906c43840f"
  },
  {
   "cell_type": "code",
   "execution_count": null,
   "outputs": [],
   "source": [
    "print(df['Work Experience'].unique())\n",
    "missing_work_exp = df[df['Work Experience'].isnull()]\n",
    "print(missing_work_exp)"
   ],
   "metadata": {
    "collapsed": false
   },
   "id": "34bfcf7055843e0e"
  },
  {
   "cell_type": "code",
   "execution_count": null,
   "outputs": [],
   "source": [
    "df['Work Experience'].replace(['0', 'nan 0', np.nan], '<1', inplace=True)\n",
    "df = df.dropna(subset=['Work Experience'])\n",
    "missing_data = df.isnull().sum()\n",
    "missing_data = missing_data[missing_data > 0]\n",
    "missing_data"
   ],
   "metadata": {
    "collapsed": false
   },
   "id": "b6564277e5aa1dd0"
  },
  {
   "cell_type": "code",
   "execution_count": null,
   "outputs": [],
   "source": [
    "df.describe()"
   ],
   "metadata": {
    "collapsed": false
   },
   "id": "67646c8d96d0f67a"
  },
  {
   "cell_type": "markdown",
   "source": [
    "## Feature Distribution and Univariate Analysis"
   ],
   "metadata": {
    "collapsed": false
   },
   "id": "3db221364aa80106"
  },
  {
   "cell_type": "markdown",
   "source": [
    "### Categorical and numerical feature analysis"
   ],
   "metadata": {
    "collapsed": false
   },
   "id": "b01e25d6a20fe67a"
  },
  {
   "cell_type": "code",
   "execution_count": null,
   "outputs": [],
   "source": [
    "categorical_features = df.select_dtypes(include=['object', 'category']).columns.tolist()\n",
    "numerical_features = df.select_dtypes(include=['number']).columns.tolist()\n",
    "\n",
    "print(\"Categorical Features:\")\n",
    "print(categorical_features)\n",
    "\n",
    "print(\"\\nDistinct values for each categorical feature:\")\n",
    "for feature in categorical_features:\n",
    "    distinct_values = df[feature].nunique()\n",
    "    unique_values = df[feature].unique()\n",
    "    print(f\"{feature}: {distinct_values} unique values\")\n",
    "    print(f\"Values: {unique_values}\")\n",
    "\n",
    "print(\"\\nNumerical Features:\")\n",
    "print(numerical_features)"
   ],
   "metadata": {
    "collapsed": false
   },
   "id": "ad8b40bca050373e"
  },
  {
   "cell_type": "markdown",
   "source": [
    "The Dependents feature, which represents the number of dependents a person has, can be treated either as numerical discrete or categorical. \n",
    "\n",
    "If there are many distinct values (e.g., 0 to 10+ dependents), it can be treated as numerical discrete.\n",
    "If there are few distinct values (e.g., 0 to 4+ dependents), it can be treated as categorical.\n",
    "\n",
    "The Defaulter variable is a categorical feature since it has two distinct values, 0 and 1, representing whether a user is a defaulter or not. It should be treated as a binary categorical variable, not as a numerical one."
   ],
   "metadata": {
    "collapsed": false
   },
   "id": "8a3947072e622a60"
  },
  {
   "cell_type": "code",
   "execution_count": null,
   "outputs": [],
   "source": [
    "unique_dependents = df['Dependents'].unique()\n",
    "print(\"Unique values in Dependents:\", unique_dependents)\n",
    "df['Dependents'] = df['Dependents'].astype('category')\n",
    "\n",
    "unique_defaulter = df['Defaulter'].unique()\n",
    "print(\"Unique values in Defaulter:\", unique_defaulter)\n",
    "df['Defaulter'] = df['Defaulter'].astype('category')\n",
    "\n",
    "unique_num_loans = df['Number of loans'].unique()\n",
    "print(\"Unique values in Number of loans:\", unique_num_loans)\n",
    "df['Number of loans'] = df['Number of loans'].astype('category')\n",
    "\n",
    "unique_loan_tenure = df['Loan Tenure'].unique()\n",
    "print(\"Unique values in Loan Tenure:\", unique_loan_tenure)\n",
    "df['Loan Tenure'] = df['Loan Tenure'].astype('category')\n",
    "\n",
    "categorical_features = df.select_dtypes(include=['object', 'category']).columns.tolist()\n",
    "print(categorical_features)"
   ],
   "metadata": {
    "collapsed": false
   },
   "id": "ec418df3eebda67a"
  },
  {
   "cell_type": "code",
   "execution_count": null,
   "outputs": [],
   "source": [
    "numerical_features = ['Amount', 'Interest Rate', 'Loan Tenure', 'Total Income', 'Delinq_2yrs', 'Total Payment', 'Received Principal', 'Interest Received']\n",
    "\n",
    "num_features = len(numerical_features)\n",
    "cols = 3\n",
    "rows = math.ceil(num_features / cols)\n",
    "\n",
    "fig, axs = plt.subplots(rows, cols, figsize=(18, 6 * rows))\n",
    "axs = axs.flatten()\n",
    "\n",
    "for i, feature in enumerate(numerical_features):\n",
    "    sns.histplot(df[feature], bins=20, kde=True, ax=axs[i])\n",
    "    axs[i].set_title(f'{feature.capitalize()} Distribution')\n",
    "    axs[i].set_xlabel(feature.capitalize())\n",
    "    axs[i].set_ylabel('Frequency')\n",
    "\n",
    "for j in range(i + 1, len(axs)):\n",
    "    fig.delaxes(axs[j])\n",
    "\n",
    "plt.tight_layout()\n",
    "plt.show()"
   ],
   "metadata": {
    "collapsed": false
   },
   "id": "664bec907d8ffed9"
  },
  {
   "cell_type": "markdown",
   "source": [
    "## Shape Analysis (Skewness)"
   ],
   "metadata": {
    "collapsed": false
   },
   "id": "754379250161e843"
  },
  {
   "cell_type": "code",
   "execution_count": null,
   "outputs": [],
   "source": [
    "numerical_features = ['Amount', 'Interest Rate', 'Loan Tenure', 'Total Income', 'Delinq_2yrs', 'Total Payment', 'Received Principal', 'Interest Received', 'Number of loans']\n",
    "\n",
    "skewness = df[numerical_features].skew()\n",
    "print(\"Skewness of features:\\n\", skewness)"
   ],
   "metadata": {
    "collapsed": false
   },
   "id": "eb93eac3975b9e28"
  },
  {
   "cell_type": "markdown",
   "source": [
    "Highly Skewed Features: Amount,Total Income, Delinq_2yrs, Interest Received and Number of loans.\n",
    "\n",
    "Moderate Skewness: Loan Tenure, Total Payment, Received Principal"
   ],
   "metadata": {
    "collapsed": false
   },
   "id": "765936d6ba1bacfd"
  },
  {
   "cell_type": "code",
   "execution_count": null,
   "outputs": [],
   "source": [
    "# Apply log transformations\n",
    "df['Amount'] = np.log1p(df['Amount'])  # First log1p transformation for Amount\n",
    "df['Total Income'] = np.log1p(df['Total Income'])\n",
    "df['Interest Received'] = np.log1p(df['Interest Received'])\n",
    "df['Number of loans'] = np.log1p(df['Number of loans'])\n",
    "df['Delinq_2yrs'] = np.log1p(df['Delinq_2yrs'])\n",
    "\n",
    "# Apply square root transformations for moderately skewed features\n",
    "df['Loan Tenure'] = np.sqrt(df['Loan Tenure'])\n",
    "df['Total Payment'] = np.sqrt(df['Total Payment'])\n",
    "df['Received Principal'] = np.sqrt(df['Received Principal'])\n",
    "\n",
    "# Apply cube root transformations where needed\n",
    "df['Number of loans'] = np.cbrt(df['Number of loans'])\n",
    "\n",
    "# Apply reflection transformation (log with reflection) for negative skewness\n",
    "df['Interest Received'] = np.log(np.max(df['Interest Received']) - df['Interest Received'] + 1)\n",
    "df['Amount'] = np.log(np.max(df['Amount']) - df['Amount'] + 1)\n",
    "\n",
    "# Apply Box-Cox transformation for highly skewed features\n",
    "df['Number of loans'], _ = boxcox(df['Number of loans'] + 1)  # Adding 1 to ensure values are > 0\n",
    "df['Delinq_2yrs'], _ = boxcox(df['Delinq_2yrs'] + 1)\n",
    "df['Loan Tenure'], _ = boxcox(df['Loan Tenure'] + 1)"
   ],
   "metadata": {
    "collapsed": false
   },
   "id": "b31bd5e64bb936ae"
  },
  {
   "cell_type": "code",
   "execution_count": null,
   "outputs": [],
   "source": [
    "skewness = df[numerical_features].skew()\n",
    "print(\"Skewness of features:\\n\", skewness)"
   ],
   "metadata": {
    "collapsed": false
   },
   "id": "8b8f3f24d9814f0f"
  },
  {
   "cell_type": "code",
   "execution_count": null,
   "outputs": [],
   "source": [
    "categorical_columns = df.select_dtypes(include=['object']).columns.tolist()\n",
    "numerical_columns = df.select_dtypes(include=['int64', 'float64']).columns.tolist()\n",
    "\n",
    "# Check for binary numerical features (which should be treated as categorical)\n",
    "binary_categorical_columns = [col for col in numerical_columns if df[col].nunique() == 2]\n",
    "\n",
    "# Explicitly add 'Work Experience Encoded' and 'Dependents' to the categorical list\n",
    "categorical_columns += binary_categorical_columns + ['Dependents']\n",
    "\n",
    "# Remove 'Work Experience Encoded' and 'Dependents' from numerical columns\n",
    "numerical_columns = [col for col in numerical_columns if col not in binary_categorical_columns + ['Work Experience Encoded', 'Dependents']]\n",
    "\n",
    "# Get unique values for categorical columns\n",
    "unique_values_categorical = {col: df[col].unique() for col in categorical_columns}\n",
    "\n",
    "# Print the categorical columns and their unique values\n",
    "print(\"Categorical Features and Unique Values:\")\n",
    "for col, unique_values in unique_values_categorical.items():\n",
    "    print(f\"{col}: {unique_values}\")\n",
    "\n",
    "# Print the remaining numerical columns\n",
    "print(\"\\nNumerical Features:\")\n",
    "print(numerical_columns)"
   ],
   "metadata": {
    "collapsed": false
   },
   "id": "d1a6a49d599646cc"
  },
  {
   "cell_type": "code",
   "execution_count": null,
   "outputs": [],
   "source": [
    "null_values = df.isnull().sum()\n",
    "print(null_values[null_values > 0])"
   ],
   "metadata": {
    "collapsed": false
   },
   "id": "6768031e9b61c2b0"
  },
  {
   "cell_type": "code",
   "execution_count": null,
   "outputs": [],
   "source": [
    "df['Amount Missing'] = df['Amount'].isnull().astype(int)\n",
    "df['Amount'].fillna(df['Amount'].median(), inplace=True)"
   ],
   "metadata": {
    "collapsed": false
   },
   "id": "3e62b97f7c7f13d"
  },
  {
   "cell_type": "code",
   "execution_count": null,
   "outputs": [],
   "source": [
    "df = df.dropna(subset=['Work Experience'])\n",
    "target_encoder = ce.TargetEncoder(cols=['Work Experience'])\n",
    "df['Work Experience Encoded'] = target_encoder.fit_transform(df['Work Experience'], df['Defaulter'])"
   ],
   "metadata": {
    "collapsed": false
   },
   "id": "918b7c279bd5d843"
  },
  {
   "cell_type": "code",
   "execution_count": null,
   "outputs": [],
   "source": [
    "replace_with = 'Unknown'\n",
    "columns_to_replace = ['Social Profile', 'Is_verified', 'Married', 'Employment type']\n",
    "df[columns_to_replace] = df[columns_to_replace].fillna(replace_with)\n",
    "df['Tier of Employment'].fillna('X', inplace=True)"
   ],
   "metadata": {
    "collapsed": false
   },
   "id": "6c172aabf23b8495"
  },
  {
   "cell_type": "code",
   "execution_count": null,
   "outputs": [],
   "source": [
    "null_values = df.isnull().sum()\n",
    "print(null_values[null_values > 0])"
   ],
   "metadata": {
    "collapsed": false
   },
   "id": "50b3f334db00ab6a"
  },
  {
   "cell_type": "code",
   "execution_count": null,
   "outputs": [],
   "source": [
    "categorical_columns = df.select_dtypes(include=['object']).columns.tolist()\n",
    "numerical_columns = df.select_dtypes(include=['int64', 'float64']).columns.tolist()\n",
    "\n",
    "# Check for binary numerical features (which should be treated as categorical)\n",
    "binary_categorical_columns = [col for col in numerical_columns if df[col].nunique() == 2]\n",
    "\n",
    "# Explicitly add 'Work Experience Encoded' and 'Dependents' to the categorical list\n",
    "categorical_columns += binary_categorical_columns + ['Work Experience Encoded', 'Dependents']\n",
    "\n",
    "# Remove 'Work Experience Encoded' and 'Dependents' from numerical columns\n",
    "numerical_columns = [col for col in numerical_columns if col not in binary_categorical_columns + ['Work Experience Encoded', 'Dependents']]\n",
    "\n",
    "# Get unique values for categorical columns\n",
    "unique_values_categorical = {col: df[col].unique() for col in categorical_columns}\n",
    "\n",
    "# Print the categorical columns and their unique values\n",
    "print(\"Categorical Features and Unique Values:\")\n",
    "for col, unique_values in unique_values_categorical.items():\n",
    "    print(f\"{col}: {unique_values}\")\n",
    "\n",
    "# Print the remaining numerical columns\n",
    "print(\"\\nNumerical Features:\")\n",
    "print(numerical_columns)"
   ],
   "metadata": {
    "collapsed": false
   },
   "id": "696f5f75dd456eb6"
  },
  {
   "cell_type": "code",
   "execution_count": null,
   "outputs": [],
   "source": [
    "df.head()"
   ],
   "metadata": {
    "collapsed": false
   },
   "id": "bed3d9ea23b0a2c9"
  },
  {
   "cell_type": "code",
   "execution_count": null,
   "outputs": [],
   "source": [
    "categorical_columns = df.select_dtypes(include=['object']).columns.tolist()\n",
    "numerical_columns = df.select_dtypes(include=['int64', 'float64']).columns.tolist()\n",
    "\n",
    "# Check for binary numerical features (which should be treated as categorical)\n",
    "binary_categorical_columns = [col for col in numerical_columns if df[col].nunique() == 2]\n",
    "\n",
    "# Explicitly add 'Work Experience Encoded' and 'Dependents' to the categorical list\n",
    "categorical_columns += binary_categorical_columns + ['Work Experience Encoded', 'Dependents']\n",
    "\n",
    "# Remove 'Work Experience Encoded' and 'Dependents' from numerical columns\n",
    "numerical_columns = [col for col in numerical_columns if col not in binary_categorical_columns + ['Work Experience Encoded', 'Dependents']]\n",
    "\n",
    "# Calculate skewness for the remaining numerical columns\n",
    "skewness_metrics = df[numerical_columns].skew()\n",
    "\n",
    "# Print skewness metrics\n",
    "print(\"Skewness Metrics for Numerical Columns:\")\n",
    "print(skewness_metrics)\n",
    "\n",
    "for feature in numerical_columns:\n",
    "    print(f\"\\n{feature} (skewness: {skewness_metrics[feature]:.2f})\")\n",
    "\n",
    "    # Create subplots for histogram and KDE plot\n",
    "    fig, axes = plt.subplots(1, 2, figsize=(18, 6))\n",
    "\n",
    "    # Plot histogram with kernel density estimate (KDE)\n",
    "    sns.histplot(df[feature], kde=True, color='blue', ax=axes[0])\n",
    "    axes[0].set_title(f'{feature} - Histogram')\n",
    "\n",
    "    # Plot KDE (Kernel Density Estimate)\n",
    "    sns.kdeplot(df[feature], color='blue', ax=axes[1])\n",
    "    axes[1].set_title(f'{feature} - KDE')\n",
    "\n",
    "    # Adjust layout to avoid overlapping\n",
    "    plt.tight_layout()\n",
    "\n",
    "    # Display the plots\n",
    "    plt.show()"
   ],
   "metadata": {
    "collapsed": false
   },
   "id": "e88797951cce75eb"
  },
  {
   "cell_type": "code",
   "execution_count": null,
   "outputs": [],
   "source": [
    "# Apply log and sqrt transformations where applicable based on skewness\n",
    "df['Amount'] = np.log1p(df['Amount'])  # log(Amount + 1) to handle 0 values\n",
    "df['Total Income'] = np.log1p(df['Total Income'])\n",
    "df['Delinq_2yrs'] = np.log1p(df['Delinq_2yrs'])\n",
    "df['Interest Received'] = np.log1p(df['Interest Received'])\n",
    "df['Number of loans'] = np.log1p(df['Number of loans'])\n",
    "\n",
    "df['Total Payment'] = np.sqrt(df['Total Payment'])\n",
    "df['Received Principal'] = np.sqrt(df['Received Principal'])\n",
    "\n",
    "# Recalculate skewness metrics for transformed columns\n",
    "transformed_columns = ['Amount', 'Total Income', 'Delinq_2yrs', 'Interest Received', 'Number of loans', 'Total Payment', 'Received Principal']\n",
    "\n",
    "transformed_skewness_metrics = df[transformed_columns].skew()\n",
    "\n",
    "# Output the skewness metrics\n",
    "print(\"Skewness Metrics for Transformed Columns:\")\n",
    "print(transformed_skewness_metrics)\n",
    "\n",
    "for feature in transformed_columns:\n",
    "    print(f\"\\n{feature} (skewness: {skewness_metrics[feature]:.2f})\")\n",
    "\n",
    "    # Create subplots for histogram and KDE plot\n",
    "    fig, axes = plt.subplots(1, 2, figsize=(18, 6))\n",
    "\n",
    "    # Plot histogram with kernel density estimate (KDE)\n",
    "    sns.histplot(df[feature], kde=True, color='blue', ax=axes[0])\n",
    "    axes[0].set_title(f'{feature} - Histogram')\n",
    "\n",
    "    # Plot KDE (Kernel Density Estimate)\n",
    "    sns.kdeplot(df[feature], color='blue', ax=axes[1])\n",
    "    axes[1].set_title(f'{feature} - KDE')\n",
    "\n",
    "    # Adjust layout to avoid overlapping\n",
    "    plt.tight_layout()\n",
    "\n",
    "    # Display the plots\n",
    "    plt.show()"
   ],
   "metadata": {
    "collapsed": false
   },
   "id": "5a61dca003cb946d"
  },
  {
   "cell_type": "code",
   "execution_count": null,
   "outputs": [],
   "source": [
    "def detect_outliers_iqr(df, column):\n",
    "    # Calculate Q1 (25th percentile) and Q3 (75th percentile)\n",
    "    Q1 = df[column].quantile(0.25)\n",
    "    Q3 = df[column].quantile(0.75)\n",
    "    \n",
    "    # Calculate IQR (Interquartile Range)\n",
    "    IQR = Q3 - Q1\n",
    "    \n",
    "    # Define the outlier boundaries\n",
    "    lower_bound = Q1 - 1.5 * IQR\n",
    "    upper_bound = Q3 + 1.5 * IQR\n",
    "    \n",
    "    # Detect outliers\n",
    "    outliers = df[(df[column] < lower_bound) | (df[column] > upper_bound)]\n",
    "    \n",
    "    print(f\"Outliers in '{column}':\")\n",
    "    print(outliers[[column]])\n",
    "\n",
    "    # Optionally, visualize the outliers using a boxplot\n",
    "    plt.figure(figsize=(8, 4))\n",
    "    sns.boxplot(x=df[column])\n",
    "    plt.title(f\"Outliers in {column}\")\n",
    "    plt.show()\n",
    "\n",
    "    return outliers\n",
    "\n",
    "# Function to cap values at the 95th percentile\n",
    "def cap_values(df, column):\n",
    "    cap_value = df[column].quantile(0.95)\n",
    "    df[f'{column}_capped'] = np.where(df[column] > cap_value, cap_value, df[column])\n",
    "    return df\n",
    "\n",
    "# Function to check and print skewness\n",
    "def check_skewness(df, columns):\n",
    "    skewness_metrics = df[columns].skew()\n",
    "    print(\"Skewness Metrics:\")\n",
    "    print(skewness_metrics)\n",
    "    return skewness_metrics\n",
    "\n",
    "# Function to apply transformations and visualize results\n",
    "def apply_log_and_boxcox(df, column):\n",
    "    # Log transformation\n",
    "    df[f'{column}_log'] = np.log1p(df[column])  # log(x + 1) to handle 0 values\n",
    "    log_skewness = df[f'{column}_log'].skew()\n",
    "    print(f\"Skewness after log transformation for {column}: {log_skewness}\")\n",
    "    \n",
    "    # Visualize log-transformed data\n",
    "    plt.figure(figsize=(10, 5))\n",
    "    sns.histplot(df[f'{column}_log'], kde=True, color='blue')\n",
    "    plt.title(f'{column}_log - Histogram and KDE after Log Transformation')\n",
    "    plt.show()\n",
    "    \n",
    "    # Box-Cox transformation\n",
    "    df[f'{column}_boxcox'], fitted_lambda = stats.boxcox(df[column] + 1e-6)  # Small constant to avoid log(0)\n",
    "    boxcox_skewness = pd.Series(df[f'{column}_boxcox']).skew()\n",
    "    print(f\"Skewness after Box-Cox transformation for {column}: {boxcox_skewness}\")\n",
    "    \n",
    "    # Visualize Box-Cox transformed data\n",
    "    plt.figure(figsize=(10, 5))\n",
    "    sns.histplot(df[f'{column}_boxcox'], kde=True, color='blue')\n",
    "    plt.title(f'{column}_boxcox - Histogram and KDE after Box-Cox Transformation')\n",
    "    plt.show()\n",
    "\n",
    "    return df"
   ],
   "metadata": {
    "collapsed": false
   },
   "id": "46cdd6d6b97d212e"
  },
  {
   "cell_type": "code",
   "execution_count": null,
   "outputs": [],
   "source": [
    "import numpy as np\n",
    "import pandas as pd\n",
    "import matplotlib.pyplot as plt\n",
    "import seaborn as sns\n",
    "from scipy import stats\n",
    "\n",
    "# Step 1: Detect outliers for \"Number of loans\" and \"Delinq_2yrs\"\n",
    "outliers_number_of_loans = detect_outliers_iqr(df, 'Number of loans')\n",
    "outliers_delinq_2yrs = detect_outliers_iqr(df, 'Delinq_2yrs')\n",
    "\n",
    "# Step 2: Cap the values at the 95th percentile\n",
    "df = cap_values(df, 'Number of loans')\n",
    "df = cap_values(df, 'Delinq_2yrs')\n",
    "\n",
    "# Step 3: Check skewness of capped columns\n",
    "capped_columns = ['Number of loans_capped', 'Delinq_2yrs_capped']\n",
    "check_skewness(df, capped_columns)\n",
    "\n",
    "# Visualize capped features\n",
    "for feature in capped_columns:\n",
    "    plt.figure(figsize=(10, 5))\n",
    "    sns.histplot(df[feature], kde=True, color='blue')\n",
    "    plt.title(f'{feature} - Histogram and KDE after Capping')\n",
    "    plt.show()\n",
    "\n",
    "# Step 4: Apply transformations (Log and Box-Cox) for 'Delinq_2yrs_capped'\n",
    "df = apply_log_and_boxcox(df, 'Delinq_2yrs_capped')"
   ],
   "metadata": {
    "collapsed": false
   },
   "id": "b06e7bcbd726c7f4"
  },
  {
   "cell_type": "code",
   "execution_count": null,
   "outputs": [],
   "source": [
    "numerical_df = df.select_dtypes(include=['float64', 'int64'])\n",
    "\n",
    "# Calculate the Pearson and Spearman correlation matrices\n",
    "pearson_corr_matrix = numerical_df.corr(method='pearson')\n",
    "spearman_corr_matrix = numerical_df.corr(method='spearman')\n",
    "\n",
    "# Print the Pearson and Spearman correlation matrices\n",
    "print(\"Pearson Correlation Matrix:\")\n",
    "print(pearson_corr_matrix)\n",
    "\n",
    "print(\"\\nSpearman Correlation Matrix:\")\n",
    "print(spearman_corr_matrix)\n",
    "\n",
    "fig, axes = plt.subplots(1, 2, figsize=(16, 6))\n",
    "sns.heatmap(pearson_corr_matrix, annot=True, cmap='coolwarm', fmt='.2f', ax=axes[0])\n",
    "axes[0].set_title('Pearson Correlation Matrix')\n",
    "sns.heatmap(spearman_corr_matrix, annot=True, cmap='coolwarm', fmt='.2f', ax=axes[1])\n",
    "axes[1].set_title('Spearman Correlation Matrix')\n",
    "plt.tight_layout()\n",
    "plt.show()"
   ],
   "metadata": {
    "collapsed": false
   },
   "id": "2c7a96d848e39900"
  },
  {
   "cell_type": "code",
   "execution_count": null,
   "outputs": [],
   "source": [
    "# Assuming 'Defaulter' is your target variable\n",
    "plt.figure(figsize=(8, 5))\n",
    "sns.countplot(x=df['Defaulter'])\n",
    "plt.title('Class Distribution of Defaulter')\n",
    "plt.show()\n",
    "\n",
    "# Print the class distribution\n",
    "class_distribution = df['Defaulter'].value_counts()\n",
    "print(class_distribution)"
   ],
   "metadata": {
    "collapsed": false
   },
   "id": "edc3709be0e75f32"
  },
  {
   "cell_type": "code",
   "execution_count": null,
   "outputs": [],
   "source": [
    "from sklearn.preprocessing import LabelEncoder\n",
    "from sklearn.preprocessing import OneHotEncoder\n",
    "\n",
    "# Copy the original dataframe to avoid altering the original one\n",
    "df_encoded = df.copy()\n",
    "\n",
    "# Label Encoding for ordinal categorical features\n",
    "ordinal_features = ['Tier of Employment', 'Work Experience Encoded', 'Dependents']\n",
    "\n",
    "# Apply LabelEncoder to ordinal features\n",
    "label_encoders = {}\n",
    "for feature in ordinal_features:\n",
    "    le = LabelEncoder()\n",
    "    df_encoded[feature] = le.fit_transform(df_encoded[feature].astype(str))  # Convert to string to handle NaNs\n",
    "    label_encoders[feature] = le\n",
    "\n",
    "# One-Hot Encoding for nominal categorical features\n",
    "nominal_features = ['Loan Category', 'Employment type', 'Gender', 'Married', 'Home', 'Social Profile', 'Is_verified']\n",
    "\n",
    "# Apply OneHotEncoder to nominal features\n",
    "df_encoded = pd.get_dummies(df_encoded, columns=nominal_features, drop_first=True)\n",
    "le_work_exp = LabelEncoder()\n",
    "df_encoded['Work Experience'] = le_work_exp.fit_transform(df_encoded['Work Experience'].astype(str))\n",
    "# Print the encoded dataframe\n",
    "print(\"Encoded Dataframe Head:\")\n",
    "print(df_encoded.head())"
   ],
   "metadata": {
    "collapsed": false
   },
   "id": "75cca9ef3bc4817c"
  },
  {
   "cell_type": "code",
   "execution_count": null,
   "outputs": [],
   "source": [
    "from imblearn.combine import SMOTETomek\n",
    "\n",
    "# Separate features and target variable\n",
    "X = df_encoded.drop('Defaulter', axis=1)\n",
    "y = df_encoded['Defaulter']\n",
    "\n",
    "# Apply SMOTETomek for resampling\n",
    "smote_tomek = SMOTETomek(random_state=42)\n",
    "X_resampled, y_resampled = smote_tomek.fit_resample(X, y)\n",
    "\n",
    "# Check new class distribution\n",
    "print(\"Class distribution after SMOTE-Tomek:\")\n",
    "print(pd.Series(y_resampled).value_counts())"
   ],
   "metadata": {
    "collapsed": false
   },
   "id": "7dedb4fc50d99890"
  },
  {
   "cell_type": "code",
   "execution_count": null,
   "outputs": [],
   "source": [
    "from sklearn.tree import DecisionTreeClassifier\n",
    "from sklearn.ensemble import RandomForestClassifier\n",
    "from xgboost import XGBClassifier\n",
    "from sklearn.metrics import classification_report, accuracy_score\n",
    "from sklearn.model_selection import train_test_split\n",
    "\n",
    "# Split the dataset into train and test sets\n",
    "X_train, X_test, y_train, y_test = train_test_split(X_resampled, y_resampled, test_size=0.2, random_state=42)\n",
    "\n",
    "# 1. Regularized Decision Tree Classifier\n",
    "dt_model = DecisionTreeClassifier(\n",
    "    random_state=42, \n",
    "    max_depth=10,                 # Limiting the maximum depth\n",
    "    min_samples_split=10,         # Minimum samples required to split an internal node\n",
    "    min_samples_leaf=5            # Minimum samples required to be at a leaf node\n",
    ")\n",
    "dt_model.fit(X_train, y_train)\n",
    "\n",
    "# Predictions on both training and test data\n",
    "y_train_pred_dt = dt_model.predict(X_train)\n",
    "y_test_pred_dt = dt_model.predict(X_test)\n",
    "\n",
    "# Evaluation on training data\n",
    "print(\"Decision Tree Classifier (Train) Report:\")\n",
    "print(f\"Train Accuracy: {accuracy_score(y_train, y_train_pred_dt):.4f}\")\n",
    "\n",
    "# Evaluation on test data\n",
    "print(\"Decision Tree Classifier (Test) Report:\")\n",
    "print(classification_report(y_test, y_test_pred_dt))\n",
    "print(f\"Test Accuracy: {accuracy_score(y_test, y_test_pred_dt):.4f}\")\n",
    "\n",
    "# 2. Regularized Random Forest Classifier\n",
    "rf_model = RandomForestClassifier(\n",
    "    random_state=42, \n",
    "    n_estimators=100,             # Number of trees\n",
    "    max_depth=10,                 # Limiting the maximum depth of the trees\n",
    "    min_samples_split=10,         # Minimum samples required to split an internal node\n",
    "    min_samples_leaf=5            # Minimum samples required to be at a leaf node\n",
    ")\n",
    "rf_model.fit(X_train, y_train)\n",
    "\n",
    "# Predictions on both training and test data\n",
    "y_train_pred_rf = rf_model.predict(X_train)\n",
    "y_test_pred_rf = rf_model.predict(X_test)\n",
    "\n",
    "# Evaluation on training data\n",
    "print(\"\\nRandom Forest Classifier (Train) Report:\")\n",
    "print(f\"Train Accuracy: {accuracy_score(y_train, y_train_pred_rf):.4f}\")\n",
    "\n",
    "# Evaluation on test data\n",
    "print(\"Random Forest Classifier (Test) Report:\")\n",
    "print(classification_report(y_test, y_test_pred_rf))\n",
    "print(f\"Test Accuracy: {accuracy_score(y_test, y_test_pred_rf):.4f}\")\n",
    "\n",
    "# 3. Regularized XGBoost Classifier\n",
    "xgb_model = XGBClassifier(\n",
    "    random_state=42, \n",
    "    use_label_encoder=False, \n",
    "    eval_metric='mlogloss', \n",
    "    max_depth=10,                 # Limiting the maximum depth of the trees\n",
    "    learning_rate=0.1,            # Step size shrinkage used to prevent overfitting\n",
    "    colsample_bytree=0.8          # Subsample ratio of columns when constructing each tree\n",
    ")\n",
    "xgb_model.fit(X_train, y_train)\n",
    "\n",
    "# Predictions on both training and test data\n",
    "y_train_pred_xgb = xgb_model.predict(X_train)\n",
    "y_test_pred_xgb = xgb_model.predict(X_test)\n",
    "\n",
    "# Evaluation on training data\n",
    "print(\"\\nXGBoost Classifier (Train) Report:\")\n",
    "print(f\"Train Accuracy: {accuracy_score(y_train, y_train_pred_xgb):.4f}\")\n",
    "\n",
    "# Evaluation on test data\n",
    "print(\"XGBoost Classifier (Test) Report:\")\n",
    "print(classification_report(y_test, y_test_pred_xgb))\n",
    "print(f\"Test Accuracy: {accuracy_score(y_test, y_test_pred_xgb):.4f}\")"
   ],
   "metadata": {
    "collapsed": false
   },
   "id": "263962e3b58cd202"
  },
  {
   "cell_type": "code",
   "execution_count": null,
   "outputs": [],
   "source": [
    "from sklearn.model_selection import cross_val_score\n",
    "from sklearn.tree import DecisionTreeClassifier\n",
    "from sklearn.ensemble import RandomForestClassifier\n",
    "from xgboost import XGBClassifier\n",
    "from sklearn.model_selection import train_test_split\n",
    "\n",
    "dt_model = DecisionTreeClassifier(random_state=42, max_depth=10, min_samples_split=10)\n",
    "rf_model = RandomForestClassifier(random_state=42, n_estimators=100, max_depth=10, min_samples_split=10)\n",
    "xgb_model = XGBClassifier(random_state=42, use_label_encoder=False, eval_metric='mlogloss', max_depth=10, learning_rate=0.1)\n",
    "\n",
    "# Cross-validation for Decision Tree\n",
    "print(\"Cross-validation for Decision Tree Classifier:\")\n",
    "dt_cv_scores = cross_val_score(dt_model, X_train, y_train, cv=5)\n",
    "print(f\"Cross-validation accuracy for Decision Tree: {dt_cv_scores}\")\n",
    "print(f\"Mean CV accuracy for Decision Tree: {dt_cv_scores.mean():.4f}\\n\")\n",
    "\n",
    "# Cross-validation for Random Forest\n",
    "print(\"Cross-validation for Random Forest Classifier:\")\n",
    "rf_cv_scores = cross_val_score(rf_model, X_train, y_train, cv=5)\n",
    "print(f\"Cross-validation accuracy for Random Forest: {rf_cv_scores}\")\n",
    "print(f\"Mean CV accuracy for Random Forest: {rf_cv_scores.mean():.4f}\\n\")\n",
    "\n",
    "# Cross-validation for XGBoost\n",
    "print(\"Cross-validation for XGBoost Classifier:\")\n",
    "xgb_cv_scores = cross_val_score(xgb_model, X_train, y_train, cv=5)\n",
    "print(f\"Cross-validation accuracy for XGBoost: {xgb_cv_scores}\")\n",
    "print(f\"Mean CV accuracy for XGBoost: {xgb_cv_scores.mean():.4f}\\n\")\n",
    "\n",
    "# Fit the models after cross-validation to evaluate test performance\n",
    "dt_model.fit(X_train, y_train)\n",
    "rf_model.fit(X_train, y_train)\n",
    "xgb_model.fit(X_train, y_train)\n",
    "\n",
    "# Predictions and evaluation on the test set for Decision Tree\n",
    "y_test_pred_dt = dt_model.predict(X_test)\n",
    "print(\"\\nDecision Tree Test Accuracy: {:.4f}\".format(accuracy_score(y_test, y_test_pred_dt)))\n",
    "\n",
    "# Predictions and evaluation on the test set for Random Forest\n",
    "y_test_pred_rf = rf_model.predict(X_test)\n",
    "print(\"Random Forest Test Accuracy: {:.4f}\".format(accuracy_score(y_test, y_test_pred_rf)))\n",
    "\n",
    "# Predictions and evaluation on the test set for XGBoost\n",
    "y_test_pred_xgb = xgb_model.predict(X_test)\n",
    "print(\"XGBoost Test Accuracy: {:.4f}\".format(accuracy_score(y_test, y_test_pred_xgb)))"
   ],
   "metadata": {
    "collapsed": false
   },
   "id": "bf534f404b98d549"
  },
  {
   "cell_type": "code",
   "execution_count": null,
   "outputs": [],
   "source": [
    "def plot_feature_importance(model, feature_names, model_name):\n",
    "    importance = model.feature_importances_\n",
    "    \n",
    "    # Sort feature importance in descending order\n",
    "    indices = np.argsort(importance)[::-1]\n",
    "    \n",
    "    # Create a plot\n",
    "    plt.figure(figsize=(10, 6))\n",
    "    plt.title(f\"Feature Importance - {model_name}\")\n",
    "    plt.bar(range(len(indices)), importance[indices], align=\"center\")\n",
    "    plt.xticks(range(len(indices)), [feature_names[i] for i in indices], rotation=90)\n",
    "    plt.tight_layout()\n",
    "    plt.show()\n",
    "\n",
    "# Random Forest Feature Importance\n",
    "print(\"Random Forest Feature Importance:\")\n",
    "plot_feature_importance(rf_model, X_train.columns, \"Random Forest\")\n",
    "\n",
    "# XGBoost Feature Importance\n",
    "print(\"XGBoost Feature Importance:\")\n",
    "plot_feature_importance(xgb_model, X_train.columns, \"XGBoost\")"
   ],
   "metadata": {
    "collapsed": false
   },
   "id": "c3b257b80309081d"
  },
  {
   "cell_type": "code",
   "execution_count": null,
   "outputs": [],
   "source": [],
   "metadata": {
    "collapsed": false
   },
   "id": "d1f3600feafb230d"
  }
 ],
 "metadata": {
  "kernelspec": {
   "display_name": "Python 3",
   "language": "python",
   "name": "python3"
  },
  "language_info": {
   "codemirror_mode": {
    "name": "ipython",
    "version": 2
   },
   "file_extension": ".py",
   "mimetype": "text/x-python",
   "name": "python",
   "nbconvert_exporter": "python",
   "pygments_lexer": "ipython2",
   "version": "2.7.6"
  }
 },
 "nbformat": 4,
 "nbformat_minor": 5
}
