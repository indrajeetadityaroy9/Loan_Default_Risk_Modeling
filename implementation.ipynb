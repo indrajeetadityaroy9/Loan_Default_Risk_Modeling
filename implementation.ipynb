{
 "cells": [
  {
   "cell_type": "code",
   "execution_count": 1,
   "id": "initial_id",
   "metadata": {
    "collapsed": true,
    "ExecuteTime": {
     "end_time": "2024-09-26T22:35:46.652200Z",
     "start_time": "2024-09-26T22:35:46.256420Z"
    }
   },
   "outputs": [],
   "source": [
    "import pandas as pd\n",
    "import numpy as np\n",
    "import warnings\n",
    "warnings.filterwarnings('ignore')"
   ]
  },
  {
   "cell_type": "code",
   "execution_count": 2,
   "outputs": [],
   "source": [
    "def read_excel_data(file_path, sheet_names):\n",
    "    data_frames = []\n",
    "    \n",
    "    for sheet_name in sheet_names:\n",
    "      df = pd.read_excel(file_path, sheet_name=sheet_name, engine='openpyxl')\n",
    "      data_frames.append(df)\n",
    "    \n",
    "    return data_frames"
   ],
   "metadata": {
    "collapsed": false,
    "ExecuteTime": {
     "end_time": "2024-09-26T22:35:48.492425Z",
     "start_time": "2024-09-26T22:35:48.489935Z"
    }
   },
   "id": "5b5dbbedd8a453fc"
  },
  {
   "cell_type": "code",
   "execution_count": 8,
   "outputs": [
    {
     "data": {
      "text/plain": "   User_id  Loan Category   Amount  Interest Rate  Tenure(years)  \\\n0  7013527  Consolidation  55884.0          11.84              6   \n1  7014291  Consolidation  55511.0          16.94              4   \n2  7014327  Consolidation  12289.0          11.84              6   \n3  7014304    Credit Card  29324.0          14.71              4   \n4  7031995    Credit Card  30252.0          14.71              4   \n\n     Employmet type Tier of Employment  \\\n0          Salaried                  B   \n1  Self - Employeed                  D   \n2               NaN                NaN   \n3               NaN                NaN   \n4               NaN                NaN   \n\n                                            Industry  \\\n0  mLVIVxoGY7TUDJ1FyFoSIZi1SFcaBmO01AydRchaEiGYtU...   \n1  mLVIVxoGY7TUDJ1FyFoSIZi1SFcaBmO01AydRchaEiGYtU...   \n2  mLVIVxoGY7TUDJ1FyFoSIZi1SFcaBmO01AydRchaEiGYtU...   \n3  mLVIVxoGY7TUDJ1FyFoSIZi1SFcaBmO01AydRchaEiGYtU...   \n4  mLVIVxoGY7TUDJ1FyFoSIZi1SFcaBmO01AydRchaEiGYtU...   \n\n                               Role Work Experience  ...      Home Pincode  \\\n0  KHMbckjadbckIFGAZSEWdkcndwkcnCCM             1-2  ...      rent  XX852X   \n1  KHMbckjadbckIFGNCSEWdkcndwkcnCCM             10+  ...  mortgage  XX286X   \n2  KHMbckjadbckIFGNYSEWdkcndwkcnCCM            5-10  ...       own  XX113X   \n3  KHMbckjadbckIFGCASEWdkcndwkcnCCM             2-3  ...      rent  XX941X   \n4  KHMbckjadbckIFGCASEWdkcndwkcnCCM             10+  ...      rent  XX913X   \n\n  Social Profile      Is_verified Delinq_2yrs Total Payement   \\\n0             No              NaN           0     1824.150000   \n1            NaN  Source Verified           0    22912.532998   \n2             No              NaN           0     7800.440000   \n3            Yes              NaN           0     6672.050000   \n4             No         Verified           0    11793.001345   \n\n  Received Principal Interest Received  Number of loans  Defaulter  \n0             971.46            852.69                0          1  \n1           18000.00           4912.53                0          0  \n2            4489.76           3310.68                0          1  \n3            5212.29           1459.76                0          0  \n4           10000.00           1793.00                0          0  \n\n[5 rows x 24 columns]",
      "text/html": "<div>\n<style scoped>\n    .dataframe tbody tr th:only-of-type {\n        vertical-align: middle;\n    }\n\n    .dataframe tbody tr th {\n        vertical-align: top;\n    }\n\n    .dataframe thead th {\n        text-align: right;\n    }\n</style>\n<table border=\"1\" class=\"dataframe\">\n  <thead>\n    <tr style=\"text-align: right;\">\n      <th></th>\n      <th>User_id</th>\n      <th>Loan Category</th>\n      <th>Amount</th>\n      <th>Interest Rate</th>\n      <th>Tenure(years)</th>\n      <th>Employmet type</th>\n      <th>Tier of Employment</th>\n      <th>Industry</th>\n      <th>Role</th>\n      <th>Work Experience</th>\n      <th>...</th>\n      <th>Home</th>\n      <th>Pincode</th>\n      <th>Social Profile</th>\n      <th>Is_verified</th>\n      <th>Delinq_2yrs</th>\n      <th>Total Payement</th>\n      <th>Received Principal</th>\n      <th>Interest Received</th>\n      <th>Number of loans</th>\n      <th>Defaulter</th>\n    </tr>\n  </thead>\n  <tbody>\n    <tr>\n      <th>0</th>\n      <td>7013527</td>\n      <td>Consolidation</td>\n      <td>55884.0</td>\n      <td>11.84</td>\n      <td>6</td>\n      <td>Salaried</td>\n      <td>B</td>\n      <td>mLVIVxoGY7TUDJ1FyFoSIZi1SFcaBmO01AydRchaEiGYtU...</td>\n      <td>KHMbckjadbckIFGAZSEWdkcndwkcnCCM</td>\n      <td>1-2</td>\n      <td>...</td>\n      <td>rent</td>\n      <td>XX852X</td>\n      <td>No</td>\n      <td>NaN</td>\n      <td>0</td>\n      <td>1824.150000</td>\n      <td>971.46</td>\n      <td>852.69</td>\n      <td>0</td>\n      <td>1</td>\n    </tr>\n    <tr>\n      <th>1</th>\n      <td>7014291</td>\n      <td>Consolidation</td>\n      <td>55511.0</td>\n      <td>16.94</td>\n      <td>4</td>\n      <td>Self - Employeed</td>\n      <td>D</td>\n      <td>mLVIVxoGY7TUDJ1FyFoSIZi1SFcaBmO01AydRchaEiGYtU...</td>\n      <td>KHMbckjadbckIFGNCSEWdkcndwkcnCCM</td>\n      <td>10+</td>\n      <td>...</td>\n      <td>mortgage</td>\n      <td>XX286X</td>\n      <td>NaN</td>\n      <td>Source Verified</td>\n      <td>0</td>\n      <td>22912.532998</td>\n      <td>18000.00</td>\n      <td>4912.53</td>\n      <td>0</td>\n      <td>0</td>\n    </tr>\n    <tr>\n      <th>2</th>\n      <td>7014327</td>\n      <td>Consolidation</td>\n      <td>12289.0</td>\n      <td>11.84</td>\n      <td>6</td>\n      <td>NaN</td>\n      <td>NaN</td>\n      <td>mLVIVxoGY7TUDJ1FyFoSIZi1SFcaBmO01AydRchaEiGYtU...</td>\n      <td>KHMbckjadbckIFGNYSEWdkcndwkcnCCM</td>\n      <td>5-10</td>\n      <td>...</td>\n      <td>own</td>\n      <td>XX113X</td>\n      <td>No</td>\n      <td>NaN</td>\n      <td>0</td>\n      <td>7800.440000</td>\n      <td>4489.76</td>\n      <td>3310.68</td>\n      <td>0</td>\n      <td>1</td>\n    </tr>\n    <tr>\n      <th>3</th>\n      <td>7014304</td>\n      <td>Credit Card</td>\n      <td>29324.0</td>\n      <td>14.71</td>\n      <td>4</td>\n      <td>NaN</td>\n      <td>NaN</td>\n      <td>mLVIVxoGY7TUDJ1FyFoSIZi1SFcaBmO01AydRchaEiGYtU...</td>\n      <td>KHMbckjadbckIFGCASEWdkcndwkcnCCM</td>\n      <td>2-3</td>\n      <td>...</td>\n      <td>rent</td>\n      <td>XX941X</td>\n      <td>Yes</td>\n      <td>NaN</td>\n      <td>0</td>\n      <td>6672.050000</td>\n      <td>5212.29</td>\n      <td>1459.76</td>\n      <td>0</td>\n      <td>0</td>\n    </tr>\n    <tr>\n      <th>4</th>\n      <td>7031995</td>\n      <td>Credit Card</td>\n      <td>30252.0</td>\n      <td>14.71</td>\n      <td>4</td>\n      <td>NaN</td>\n      <td>NaN</td>\n      <td>mLVIVxoGY7TUDJ1FyFoSIZi1SFcaBmO01AydRchaEiGYtU...</td>\n      <td>KHMbckjadbckIFGCASEWdkcndwkcnCCM</td>\n      <td>10+</td>\n      <td>...</td>\n      <td>rent</td>\n      <td>XX913X</td>\n      <td>No</td>\n      <td>Verified</td>\n      <td>0</td>\n      <td>11793.001345</td>\n      <td>10000.00</td>\n      <td>1793.00</td>\n      <td>0</td>\n      <td>0</td>\n    </tr>\n  </tbody>\n</table>\n<p>5 rows × 24 columns</p>\n</div>"
     },
     "execution_count": 8,
     "metadata": {},
     "output_type": "execute_result"
    }
   ],
   "source": [
    "# Read Excel sheets into DataFrames\n",
    "sheet_names = ['loan_information', 'Employment', 'Personal_information', 'Other_information']\n",
    "dfs = read_excel_data(\"Data/Credit_Risk_Dataset.xlsx\", sheet_names)\n",
    "\n",
    "loan_information = dfs[0]\n",
    "employment = dfs[1]\n",
    "personal_information = dfs[2]\n",
    "other_information = dfs[3]\n",
    "\n",
    "# Standardize the 'User_id' column names across all DataFrames\n",
    "employment.rename(columns={'User id': 'User_id'}, inplace=True)\n",
    "personal_information.rename(columns={'User id': 'User_id'}, inplace=True)\n",
    "\n",
    "# Merge 'loan_information' and 'employment' DataFrames based on 'User_id'\n",
    "merged_df = pd.merge(loan_information, employment, on='User_id')\n",
    "\n",
    "# Merge the previously merged DataFrame with 'personal_information' based on 'User_id'\n",
    "merged_df = pd.merge(merged_df, personal_information, on='User_id')\n",
    "\n",
    "# Merge the previously merged DataFrame with 'other_information' based on 'User_id'\n",
    "merged_df = pd.merge(merged_df, other_information, on='User_id')\n",
    "\n",
    "df = merged_df\n",
    "df.to_csv(\"merged_data.csv\", index=False)\n",
    "df.head()"
   ],
   "metadata": {
    "collapsed": false,
    "ExecuteTime": {
     "end_time": "2024-09-26T22:48:41.357447Z",
     "start_time": "2024-09-26T22:48:25.841997Z"
    }
   },
   "id": "a72472fb93d88e3a"
  },
  {
   "cell_type": "code",
   "execution_count": 5,
   "outputs": [
    {
     "data": {
      "text/plain": "User_id                 int64\nLoan Category          object\nAmount                float64\nInterest Rate         float64\nTenure(years)           int64\nEmploymet type         object\nTier of Employment     object\nIndustry               object\nRole                   object\nWork Experience        object\nTotal Income(PA)      float64\nGender                 object\nMarried                object\nDependents              int64\nHome                   object\nPincode                object\nSocial Profile         object\nIs_verified            object\nDelinq_2yrs             int64\nTotal Payement        float64\nReceived Principal    float64\nInterest Received     float64\nNumber of loans         int64\nDefaulter               int64\ndtype: object"
     },
     "execution_count": 5,
     "metadata": {},
     "output_type": "execute_result"
    }
   ],
   "source": [
    "df.dtypes"
   ],
   "metadata": {
    "collapsed": false,
    "ExecuteTime": {
     "end_time": "2024-09-26T22:41:39.960434Z",
     "start_time": "2024-09-26T22:41:39.956010Z"
    }
   },
   "id": "4236abe2d32249b5"
  },
  {
   "cell_type": "code",
   "execution_count": 6,
   "outputs": [
    {
     "data": {
      "text/plain": "            User_id        Amount  Interest Rate  Tenure(years)  \\\ncount  1.437270e+05  1.118030e+05  143727.000000  143727.000000   \nmean   3.733474e+07  1.376458e+05      12.038703       4.514503   \nstd    3.182811e+07  1.575427e+05       3.880204       0.874241   \nmin    2.080360e+05  0.000000e+00       5.420000       4.000000   \n25%    3.276118e+06  2.837950e+04       9.180000       4.000000   \n50%    5.766517e+07  7.660300e+04      11.840000       4.000000   \n75%    6.729174e+07  2.054645e+05      14.440000       6.000000   \nmax    7.895894e+07  8.000078e+06      23.540000       6.000000   \n\n       Total Income(PA)     Dependents    Delinq_2yrs  Total Payement   \\\ncount      1.437270e+05  143727.000000  143727.000000    143727.000000   \nmean       7.242256e+04       1.997113       0.276601     10840.882025   \nstd        5.539328e+04       1.411317       0.789019      8613.421536   \nmin        4.000000e+03       0.000000       0.000000         0.000000   \n25%        4.500000e+04       1.000000       0.000000      4674.775000   \n50%        6.180000e+04       2.000000       0.000000      8212.410000   \n75%        8.600000e+04       3.000000       0.000000     14175.769677   \nmax        7.141778e+06       4.000000      22.000000     57777.579870   \n\n       Received Principal  Interest Received  Number of loans      Defaulter  \ncount       143727.000000      143727.000000    143727.000000  143727.000000  \nmean          8407.001538        2352.729746         0.005573       0.093712  \nstd           7224.396032        2447.759754         0.098785       0.291429  \nmin              0.000000           0.000000         0.000000       0.000000  \n25%           3104.160000         841.685000         0.000000       0.000000  \n50%           6000.000000        1632.240000         0.000000       0.000000  \n75%          11664.365000        2904.770000         0.000000       0.000000  \nmax          35000.010000       24205.620000         5.000000       1.000000  ",
      "text/html": "<div>\n<style scoped>\n    .dataframe tbody tr th:only-of-type {\n        vertical-align: middle;\n    }\n\n    .dataframe tbody tr th {\n        vertical-align: top;\n    }\n\n    .dataframe thead th {\n        text-align: right;\n    }\n</style>\n<table border=\"1\" class=\"dataframe\">\n  <thead>\n    <tr style=\"text-align: right;\">\n      <th></th>\n      <th>User_id</th>\n      <th>Amount</th>\n      <th>Interest Rate</th>\n      <th>Tenure(years)</th>\n      <th>Total Income(PA)</th>\n      <th>Dependents</th>\n      <th>Delinq_2yrs</th>\n      <th>Total Payement</th>\n      <th>Received Principal</th>\n      <th>Interest Received</th>\n      <th>Number of loans</th>\n      <th>Defaulter</th>\n    </tr>\n  </thead>\n  <tbody>\n    <tr>\n      <th>count</th>\n      <td>1.437270e+05</td>\n      <td>1.118030e+05</td>\n      <td>143727.000000</td>\n      <td>143727.000000</td>\n      <td>1.437270e+05</td>\n      <td>143727.000000</td>\n      <td>143727.000000</td>\n      <td>143727.000000</td>\n      <td>143727.000000</td>\n      <td>143727.000000</td>\n      <td>143727.000000</td>\n      <td>143727.000000</td>\n    </tr>\n    <tr>\n      <th>mean</th>\n      <td>3.733474e+07</td>\n      <td>1.376458e+05</td>\n      <td>12.038703</td>\n      <td>4.514503</td>\n      <td>7.242256e+04</td>\n      <td>1.997113</td>\n      <td>0.276601</td>\n      <td>10840.882025</td>\n      <td>8407.001538</td>\n      <td>2352.729746</td>\n      <td>0.005573</td>\n      <td>0.093712</td>\n    </tr>\n    <tr>\n      <th>std</th>\n      <td>3.182811e+07</td>\n      <td>1.575427e+05</td>\n      <td>3.880204</td>\n      <td>0.874241</td>\n      <td>5.539328e+04</td>\n      <td>1.411317</td>\n      <td>0.789019</td>\n      <td>8613.421536</td>\n      <td>7224.396032</td>\n      <td>2447.759754</td>\n      <td>0.098785</td>\n      <td>0.291429</td>\n    </tr>\n    <tr>\n      <th>min</th>\n      <td>2.080360e+05</td>\n      <td>0.000000e+00</td>\n      <td>5.420000</td>\n      <td>4.000000</td>\n      <td>4.000000e+03</td>\n      <td>0.000000</td>\n      <td>0.000000</td>\n      <td>0.000000</td>\n      <td>0.000000</td>\n      <td>0.000000</td>\n      <td>0.000000</td>\n      <td>0.000000</td>\n    </tr>\n    <tr>\n      <th>25%</th>\n      <td>3.276118e+06</td>\n      <td>2.837950e+04</td>\n      <td>9.180000</td>\n      <td>4.000000</td>\n      <td>4.500000e+04</td>\n      <td>1.000000</td>\n      <td>0.000000</td>\n      <td>4674.775000</td>\n      <td>3104.160000</td>\n      <td>841.685000</td>\n      <td>0.000000</td>\n      <td>0.000000</td>\n    </tr>\n    <tr>\n      <th>50%</th>\n      <td>5.766517e+07</td>\n      <td>7.660300e+04</td>\n      <td>11.840000</td>\n      <td>4.000000</td>\n      <td>6.180000e+04</td>\n      <td>2.000000</td>\n      <td>0.000000</td>\n      <td>8212.410000</td>\n      <td>6000.000000</td>\n      <td>1632.240000</td>\n      <td>0.000000</td>\n      <td>0.000000</td>\n    </tr>\n    <tr>\n      <th>75%</th>\n      <td>6.729174e+07</td>\n      <td>2.054645e+05</td>\n      <td>14.440000</td>\n      <td>6.000000</td>\n      <td>8.600000e+04</td>\n      <td>3.000000</td>\n      <td>0.000000</td>\n      <td>14175.769677</td>\n      <td>11664.365000</td>\n      <td>2904.770000</td>\n      <td>0.000000</td>\n      <td>0.000000</td>\n    </tr>\n    <tr>\n      <th>max</th>\n      <td>7.895894e+07</td>\n      <td>8.000078e+06</td>\n      <td>23.540000</td>\n      <td>6.000000</td>\n      <td>7.141778e+06</td>\n      <td>4.000000</td>\n      <td>22.000000</td>\n      <td>57777.579870</td>\n      <td>35000.010000</td>\n      <td>24205.620000</td>\n      <td>5.000000</td>\n      <td>1.000000</td>\n    </tr>\n  </tbody>\n</table>\n</div>"
     },
     "execution_count": 6,
     "metadata": {},
     "output_type": "execute_result"
    }
   ],
   "source": [
    "df.describe()"
   ],
   "metadata": {
    "collapsed": false,
    "ExecuteTime": {
     "end_time": "2024-09-26T22:41:53.912208Z",
     "start_time": "2024-09-26T22:41:53.851963Z"
    }
   },
   "id": "df28d0a6c13b2d44"
  },
  {
   "cell_type": "code",
   "execution_count": 7,
   "outputs": [
    {
     "name": "stdout",
     "output_type": "stream",
     "text": [
      "Amount                31924\n",
      "Employmet type        84642\n",
      "Tier of Employment    84642\n",
      "Industry                  4\n",
      "Work Experience           4\n",
      "Married               48143\n",
      "Social Profile        47856\n",
      "Is_verified           35803\n",
      "dtype: int64\n"
     ]
    }
   ],
   "source": [
    "null_values = df.isnull().sum()\n",
    "print(null_values[null_values > 0])"
   ],
   "metadata": {
    "collapsed": false,
    "ExecuteTime": {
     "end_time": "2024-09-26T22:47:30.082923Z",
     "start_time": "2024-09-26T22:47:30.033505Z"
    }
   },
   "id": "d91d70130fac1d7d"
  },
  {
   "cell_type": "code",
   "execution_count": null,
   "outputs": [],
   "source": [],
   "metadata": {
    "collapsed": false
   },
   "id": "d1f3600feafb230d"
  }
 ],
 "metadata": {
  "kernelspec": {
   "display_name": "Python 3",
   "language": "python",
   "name": "python3"
  },
  "language_info": {
   "codemirror_mode": {
    "name": "ipython",
    "version": 2
   },
   "file_extension": ".py",
   "mimetype": "text/x-python",
   "name": "python",
   "nbconvert_exporter": "python",
   "pygments_lexer": "ipython2",
   "version": "2.7.6"
  }
 },
 "nbformat": 4,
 "nbformat_minor": 5
}
